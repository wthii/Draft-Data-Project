{
 "cells": [
  {
   "cell_type": "code",
   "execution_count": 2,
   "metadata": {
    "collapsed": true
   },
   "outputs": [],
   "source": [
    "import numpy as np"
   ]
  },
  {
   "cell_type": "code",
   "execution_count": 3,
   "metadata": {
    "collapsed": true
   },
   "outputs": [],
   "source": [
    "import matplotlib.pyplot as plt"
   ]
  },
  {
   "cell_type": "code",
   "execution_count": 4,
   "metadata": {
    "collapsed": true
   },
   "outputs": [],
   "source": [
    "import pandas as pd"
   ]
  },
  {
   "cell_type": "code",
   "execution_count": 5,
   "metadata": {
    "collapsed": false
   },
   "outputs": [],
   "source": [
    "df = pd.read_csv('../nfl_draft.csv')"
   ]
  },
  {
   "cell_type": "code",
   "execution_count": 6,
   "metadata": {
    "collapsed": true
   },
   "outputs": [],
   "source": [
    "qb_df = df[ df[ 'Pos' ] == 'QB' ]"
   ]
  },
  {
   "cell_type": "code",
   "execution_count": 7,
   "metadata": {
    "collapsed": false
   },
   "outputs": [
    {
     "name": "stdout",
     "output_type": "stream",
     "text": [
      "Index(['Player_Id', 'Year', 'Rnd', 'Pick', 'Tm', 'Player', 'Pos',\n",
      "       'Position Standard', 'First4AV', 'Age', 'To', 'AP1', 'PB', 'St',\n",
      "       'CarAV', 'DrAV', 'G', 'Cmp', 'Pass_Att', 'Pass_Yds', 'Pass_TD',\n",
      "       'Pass_Int', 'Rush_Att', 'Rush_Yds', 'Rush_TDs', 'Rec', 'Rec_Yds',\n",
      "       'Rec_Tds', 'Tkl', 'Def_Int', 'Sk', 'College/Univ', 'Unnamed: 32'],\n",
      "      dtype='object')\n"
     ]
    }
   ],
   "source": [
    "print( qb_df.columns )"
   ]
  },
  {
   "cell_type": "code",
   "execution_count": 8,
   "metadata": {
    "collapsed": false
   },
   "outputs": [
    {
     "data": {
      "image/png": "[encoded data removed]",
      "text/plain": [
       "<matplotlib.figure.Figure at 0x110f6aa20>"
      ]
     },
     "metadata": {},
     "output_type": "display_data"
    }
   ],
   "source": [
    "plt.figure( figsize = ( 6, 12 ) )\n",
    "\n",
    "plt.subplot( 2, 1, 1 )\n",
    "plt.hist( qb_df[ qb_df[ 'Rnd' ] == 1 ][ 'G' ], color = 'green', alpha=.5 )\n",
    "plt.ylabel( 'Frequency' )\n",
    "plt.title( 'Career games for 1st round QBs' )\n",
    "\n",
    "plt.subplot( 2, 1, 2 )\n",
    "plt.hist( qb_df[ qb_df[ 'Rnd' ] == 2 ][ 'G' ], color = 'blue', alpha=.5 )\n",
    "plt.ylabel( 'Frequency' )\n",
    "plt.title( 'Career games for 2nd round QBs' )\n",
    "plt.show()"
   ]
  },
  {
   "cell_type": "code",
   "execution_count": 9,
   "metadata": {
    "collapsed": true
   },
   "outputs": [],
   "source": [
    "# Here we have histograms depicting distributions for the number of games started on the career for QBs drafted in the\n",
    "# first round (above) and second round (below).  Although there is a second rounder who started more games than any of\n",
    "# the first rounders, second rounders starting more than 100 games are relatively sparse, and the first rounders'\n",
    "# distribution includes a fair few starting more than 100 games -- many starting in more than 150 games."
   ]
  },
  {
   "cell_type": "code",
   "execution_count": 10,
   "metadata": {
    "collapsed": true
   },
   "outputs": [],
   "source": [
    "x = qb_df[ 'First4AV' ]"
   ]
  },
  {
   "cell_type": "code",
   "execution_count": 11,
   "metadata": {
    "collapsed": true
   },
   "outputs": [],
   "source": [
    "y = qb_df[ 'Rnd' ]"
   ]
  },
  {
   "cell_type": "code",
   "execution_count": 12,
   "metadata": {
    "collapsed": false
   },
   "outputs": [
    {
     "data": {
      "text/plain": [
       "<matplotlib.collections.PathCollection at 0x11035c940>"
      ]
     },
     "execution_count": 12,
     "metadata": {},
     "output_type": "execute_result"
    }
   ],
   "source": [
    "plt.scatter( x, y )"
   ]
  },
  {
   "cell_type": "code",
   "execution_count": 13,
   "metadata": {
    "collapsed": false
   },
   "outputs": [
    {
     "data": {
      "image/png": "[encoded data removed]",
      "text/plain": [
       "<matplotlib.figure.Figure at 0x110f52e10>"
      ]
     },
     "metadata": {},
     "output_type": "display_data"
    }
   ],
   "source": [
    "plt.show()"
   ]
  },
  {
   "cell_type": "code",
   "execution_count": 14,
   "metadata": {
    "collapsed": true
   },
   "outputs": [],
   "source": [
    "# Here we have a scatterplot of the round in which the QB was picked (y-axis) vs. the QB's approximate value rating\n",
    "# during the first four years in the league (x-axis).  One would expect to see higher approximate value ratings for\n",
    "# QBs drafted during earlier rounds, and this is borne out by the scatterplot.  But the lower left corner stands as a\n",
    "# pronounced warning to the idea that drafting a highly regarded college player in the first round will automatically\n",
    "# supply your team with high-level play.  It might -- but it's far from a guarantee."
   ]
  },
  {
   "cell_type": "code",
   "execution_count": 15,
   "metadata": {
    "collapsed": true
   },
   "outputs": [],
   "source": [
    "# Data supplied via https://www.kaggle.com/ronaldjgrafjr/nfl-draft-outcomes\n"
   ]
  },
  {
   "cell_type": "code",
   "execution_count": 16,
   "metadata": {
    "collapsed": true
   },
   "outputs": [],
   "source": [
    "# That bottom graphic looked reallly squirrellly to me.  I get what it says, but how to tease out the right observation\n",
    "# in a more legit manner escapes me.\n",
    "# Sure the y- is the round in which the QB was drafted.  Numeric?  I guess you're right, the answer is not really.\n",
    "#  THAT is something which occurred to me.  Side by side boxplots, one for each draft round.\n",
    "# I had set up 7 dfs, one for QBs drafted in each round.  But I threw it away.\n",
    "# not each QB -- each round in which all the QBs were drafted, independent of year.\n"
   ]
  },
  {
   "cell_type": "code",
   "execution_count": 17,
   "metadata": {
    "collapsed": false
   },
   "outputs": [
    {
     "data": {
      "text/plain": [
       "<matplotlib.axes._subplots.AxesSubplot at 0x110320160>"
      ]
     },
     "execution_count": 17,
     "metadata": {},
     "output_type": "execute_result"
    }
   ],
   "source": [
    "qb_df.boxplot( column = 'First4AV', by = 'Rnd' )"
   ]
  },
  {
   "cell_type": "code",
   "execution_count": 18,
   "metadata": {
    "collapsed": true
   },
   "outputs": [],
   "source": [
    "%matplotlib inline"
   ]
  },
  {
   "cell_type": "code",
   "execution_count": 19,
   "metadata": {
    "collapsed": true
   },
   "outputs": [],
   "source": [
    "df = df[ df[ 'CarAV' ] > 0 ]"
   ]
  },
  {
   "cell_type": "code",
   "execution_count": 20,
   "metadata": {
    "collapsed": false
   },
   "outputs": [],
   "source": [
    "df[ 'CarAV-First4AV' ] = df[ 'CarAV' ] - df[ 'First4AV' ]"
   ]
  },
  {
   "cell_type": "code",
   "execution_count": 21,
   "metadata": {
    "collapsed": false
   },
   "outputs": [
    {
     "data": {
      "text/plain": [
       "<matplotlib.axes._subplots.AxesSubplot at 0x110236a58>"
      ]
     },
     "execution_count": 21,
     "metadata": {},
     "output_type": "execute_result"
    },
    {
     "data": {
      "image/png": "[encoded data removed]",
      "text/plain": [
       "<matplotlib.figure.Figure at 0x1079fb6d8>"
      ]
     },
     "metadata": {},
     "output_type": "display_data"
    }
   ],
   "source": [
    "df.boxplot( column = 'CarAV-First4AV', by = \"Rnd\" )"
   ]
  },
  {
   "cell_type": "code",
   "execution_count": 22,
   "metadata": {
    "collapsed": true
   },
   "outputs": [],
   "source": [
    "import scipy"
   ]
  },
  {
   "cell_type": "code",
   "execution_count": 23,
   "metadata": {
    "collapsed": true
   },
   "outputs": [],
   "source": [
    "round_1_data = df[ df[ 'Rnd' ] == 1 ]"
   ]
  },
  {
   "cell_type": "code",
   "execution_count": 24,
   "metadata": {
    "collapsed": true
   },
   "outputs": [],
   "source": [
    "from scipy.stats import ttest_1samp"
   ]
  },
  {
   "cell_type": "code",
   "execution_count": 25,
   "metadata": {
    "collapsed": false
   },
   "outputs": [
    {
     "data": {
      "image/png": "[encoded data removed]",
      "text/plain": [
       "<matplotlib.figure.Figure at 0x11453bc50>"
      ]
     },
     "metadata": {},
     "output_type": "display_data"
    },
    {
     "name": "stdout",
     "output_type": "stream",
     "text": [
      "Ttest_1sampResult(statistic=20.743266179815247, pvalue=1.9427178697164285e-78)\n"
     ]
    }
   ],
   "source": [
    "plt.hist( round_1_data[ 'CarAV-First4AV' ], color = 'blue' )\n",
    "plt.show()\n",
    "print( scipy.stats.ttest_1samp( round_1_data[ 'CarAV-First4AV' ], 0 ) )"
   ]
  },
  {
   "cell_type": "code",
   "execution_count": 26,
   "metadata": {
    "collapsed": false
   },
   "outputs": [
    {
     "data": {
      "image/png": "[encoded data removed]",
      "text/plain": [
       "<matplotlib.figure.Figure at 0x114730cf8>"
      ]
     },
     "metadata": {},
     "output_type": "display_data"
    },
    {
     "name": "stdout",
     "output_type": "stream",
     "text": [
      "Ttest_1sampResult(statistic=17.435973126082168, pvalue=1.2036804754830249e-58)\n"
     ]
    }
   ],
   "source": [
    "round_2_data = df[ df[ 'Rnd' ] == 2 ]\n",
    "plt.hist( round_2_data[ 'CarAV-First4AV' ], color = 'blue' )\n",
    "plt.show()\n",
    "print( scipy.stats.ttest_1samp( round_2_data[ 'CarAV-First4AV' ], 0 ) )"
   ]
  },
  {
   "cell_type": "code",
   "execution_count": 27,
   "metadata": {
    "collapsed": false
   },
   "outputs": [
    {
     "data": {
      "image/png": "[encoded data removed]",
      "text/plain": [
       "<matplotlib.figure.Figure at 0x1148815c0>"
      ]
     },
     "metadata": {},
     "output_type": "display_data"
    },
    {
     "name": "stdout",
     "output_type": "stream",
     "text": [
      "Ttest_1sampResult(statistic=14.438604454665402, pvalue=1.6590665891460491e-42)\n"
     ]
    }
   ],
   "source": [
    "round_3_data = df[ df[ 'Rnd' ] == 3 ]\n",
    "plt.hist( round_3_data[ 'CarAV-First4AV' ], color = 'blue' )\n",
    "plt.show()\n",
    "print( scipy.stats.ttest_1samp( round_3_data[ 'CarAV-First4AV' ], 0 ) )"
   ]
  },
  {
   "cell_type": "code",
   "execution_count": 28,
   "metadata": {
    "collapsed": false
   },
   "outputs": [
    {
     "data": {
      "image/png": "[encoded data removed]",
      "text/plain": [
       "<matplotlib.figure.Figure at 0x1149c9da0>"
      ]
     },
     "metadata": {},
     "output_type": "display_data"
    },
    {
     "name": "stdout",
     "output_type": "stream",
     "text": [
      "Ttest_1sampResult(statistic=13.265657747233911, pvalue=1.8013707560944631e-36)\n"
     ]
    }
   ],
   "source": [
    "round_4_data = df[ df[ 'Rnd' ] == 4 ]\n",
    "plt.hist( round_4_data[ 'CarAV-First4AV' ], color = 'blue' )\n",
    "plt.show()\n",
    "print( scipy.stats.ttest_1samp( round_4_data[ 'CarAV-First4AV' ], 0 ) )"
   ]
  },
  {
   "cell_type": "code",
   "execution_count": 29,
   "metadata": {
    "collapsed": false
   },
   "outputs": [
    {
     "data": {
      "image/png": "[encoded data removed]",
      "text/plain": [
       "<matplotlib.figure.Figure at 0x114b3b940>"
      ]
     },
     "metadata": {},
     "output_type": "display_data"
    },
    {
     "name": "stdout",
     "output_type": "stream",
     "text": [
      "Ttest_1sampResult(statistic=10.533698358031481, pvalue=3.5023289242259775e-24)\n"
     ]
    }
   ],
   "source": [
    "round_5_data = df[ df[ 'Rnd' ] == 5 ]\n",
    "plt.hist( round_5_data[ 'CarAV-First4AV' ], color = 'blue' )\n",
    "plt.show()\n",
    "print( scipy.stats.ttest_1samp( round_5_data[ 'CarAV-First4AV' ], 0 ) )"
   ]
  },
  {
   "cell_type": "code",
   "execution_count": 30,
   "metadata": {
    "collapsed": false
   },
   "outputs": [
    {
     "data": {
      "image/png": "[encoded data removed]",
      "text/plain": [
       "<matplotlib.figure.Figure at 0x114c87b38>"
      ]
     },
     "metadata": {},
     "output_type": "display_data"
    },
    {
     "name": "stdout",
     "output_type": "stream",
     "text": [
      "Ttest_1sampResult(statistic=9.8073688492457087, pvalue=3.3177323348780919e-21)\n"
     ]
    }
   ],
   "source": [
    "round_6_data = df[ df[ 'Rnd' ] == 6 ]\n",
    "plt.hist( round_6_data[ 'CarAV-First4AV' ], color = 'blue' )\n",
    "plt.show()\n",
    "print( scipy.stats.ttest_1samp( round_6_data[ 'CarAV-First4AV' ], 0 ) )"
   ]
  },
  {
   "cell_type": "code",
   "execution_count": 31,
   "metadata": {
    "collapsed": false
   },
   "outputs": [
    {
     "data": {
      "image/png": "[encoded data removed]",
      "text/plain": [
       "<matplotlib.figure.Figure at 0x114b4fa20>"
      ]
     },
     "metadata": {},
     "output_type": "display_data"
    },
    {
     "name": "stdout",
     "output_type": "stream",
     "text": [
      "Ttest_1sampResult(statistic=9.9349122489396198, pvalue=1.1604013797725412e-21)\n"
     ]
    }
   ],
   "source": [
    "round_7_data = df[ df[ 'Rnd' ] == 7 ]\n",
    "plt.hist( round_7_data[ 'CarAV-First4AV' ], color = 'blue' )\n",
    "plt.show()\n",
    "print( scipy.stats.ttest_1samp( round_7_data[ 'CarAV-First4AV' ], 0 ) )"
   ]
  },
  {
   "cell_type": "code",
   "execution_count": 32,
   "metadata": {
    "collapsed": false
   },
   "outputs": [
    {
     "data": {
      "image/png": "[encoded data removed]",
      "text/plain": [
       "<matplotlib.figure.Figure at 0x1148811d0>"
      ]
     },
     "metadata": {},
     "output_type": "display_data"
    },
    {
     "name": "stdout",
     "output_type": "stream",
     "text": [
      "Ttest_1sampResult(statistic=9.115025207358963, pvalue=3.5683484860820831e-18)\n"
     ]
    }
   ],
   "source": [
    "round_late_data = df[ df[ 'Rnd' ] >= 8 ]\n",
    "plt.hist( round_late_data[ 'CarAV-First4AV' ], color = 'blue' )\n",
    "plt.show()\n",
    "print( scipy.stats.ttest_1samp( round_late_data[ 'CarAV-First4AV' ], 0 ) )"
   ]
  },
  {
   "cell_type": "code",
   "execution_count": 33,
   "metadata": {
    "collapsed": false
   },
   "outputs": [
    {
     "name": "stdout",
     "output_type": "stream",
     "text": [
      "Ttest_indResult(statistic=6.2710718240505106, pvalue=4.5690052750599635e-10)\n"
     ]
    }
   ],
   "source": [
    "# OK, so significant differences in every round.  What about between rounds?\n",
    "\n",
    "from scipy.stats import ttest_ind\n",
    "print( ttest_ind( round_1_data[ 'CarAV-First4AV' ], round_2_data[ 'CarAV-First4AV' ], equal_var = False ) )"
   ]
  },
  {
   "cell_type": "code",
   "execution_count": 34,
   "metadata": {
    "collapsed": false
   },
   "outputs": [
    {
     "name": "stdout",
     "output_type": "stream",
     "text": [
      "Ttest_indResult(statistic=9.5924554912813402, pvalue=3.3428339760598358e-21)\n"
     ]
    }
   ],
   "source": [
    "print( ttest_ind( round_1_data[ 'CarAV-First4AV' ], round_3_data[ 'CarAV-First4AV' ], equal_var = False ) )"
   ]
  },
  {
   "cell_type": "code",
   "execution_count": 35,
   "metadata": {
    "collapsed": false
   },
   "outputs": [
    {
     "name": "stdout",
     "output_type": "stream",
     "text": [
      "Ttest_indResult(statistic=3.6708902474359264, pvalue=0.00024913263445823101)\n"
     ]
    }
   ],
   "source": [
    "print( ttest_ind( round_2_data[ 'CarAV-First4AV' ], round_3_data[ 'CarAV-First4AV' ], equal_var = False ) )"
   ]
  },
  {
   "cell_type": "code",
   "execution_count": 36,
   "metadata": {
    "collapsed": false
   },
   "outputs": [
    {
     "name": "stdout",
     "output_type": "stream",
     "text": [
      "Ttest_indResult(statistic=1.8481085674015769, pvalue=0.064763831380542647)\n"
     ]
    }
   ],
   "source": [
    "print( ttest_ind( round_3_data[ 'CarAV-First4AV' ], round_4_data[ 'CarAV-First4AV' ], equal_var = False ) )"
   ]
  },
  {
   "cell_type": "code",
   "execution_count": 37,
   "metadata": {
    "collapsed": true
   },
   "outputs": [],
   "source": [
    "# Will you look at that?!?!  NOT significant at the alpha = 0.05 level.  That is, players drafted in rounds 1 and 2\n",
    "# go on to have careers in which their average values increase more significantly in their early rounds;  but by the\n",
    "# time we compare rounds 3 and 4, the difference in improvement is no longer significant.  Let's check to see if this\n",
    "# is a fluke, or if the trend continues."
   ]
  },
  {
   "cell_type": "code",
   "execution_count": 38,
   "metadata": {
    "collapsed": false
   },
   "outputs": [
    {
     "name": "stdout",
     "output_type": "stream",
     "text": [
      "Ttest_indResult(statistic=1.9990502518140358, pvalue=0.045783183146105411)\n"
     ]
    }
   ],
   "source": [
    "print( ttest_ind( round_4_data[ 'CarAV-First4AV' ], round_5_data[ 'CarAV-First4AV' ], equal_var = False ) )"
   ]
  },
  {
   "cell_type": "code",
   "execution_count": 39,
   "metadata": {
    "collapsed": true
   },
   "outputs": [],
   "source": [
    "# Hokey smokes, Bullwinkle!  We're back to 0.05 significance, but just barely so -- probably best not to make too much\n",
    "# of this.  We continue ...."
   ]
  },
  {
   "cell_type": "code",
   "execution_count": 40,
   "metadata": {
    "collapsed": false
   },
   "outputs": [
    {
     "name": "stdout",
     "output_type": "stream",
     "text": [
      "Ttest_indResult(statistic=0.10585766431389937, pvalue=0.91571159978299277)\n"
     ]
    }
   ],
   "source": [
    "print( ttest_ind( round_5_data[ 'CarAV-First4AV' ], round_6_data[ 'CarAV-First4AV' ], equal_var = False ) )"
   ]
  },
  {
   "cell_type": "code",
   "execution_count": 41,
   "metadata": {
    "collapsed": true
   },
   "outputs": [],
   "source": [
    "# Oy, vey!  Microscopic t says there's really no systematic difference."
   ]
  },
  {
   "cell_type": "code",
   "execution_count": 42,
   "metadata": {
    "collapsed": false
   },
   "outputs": [
    {
     "name": "stdout",
     "output_type": "stream",
     "text": [
      "Ttest_indResult(statistic=0.50918107880930252, pvalue=0.6107171214900915)\n"
     ]
    }
   ],
   "source": [
    "print( ttest_ind( round_6_data[ 'CarAV-First4AV' ], round_7_data[ 'CarAV-First4AV' ], equal_var = False ) )"
   ]
  },
  {
   "cell_type": "code",
   "execution_count": 43,
   "metadata": {
    "collapsed": true
   },
   "outputs": [],
   "source": [
    "# and again ...."
   ]
  },
  {
   "cell_type": "code",
   "execution_count": 44,
   "metadata": {
    "collapsed": false
   },
   "outputs": [
    {
     "name": "stdout",
     "output_type": "stream",
     "text": [
      "Ttest_indResult(statistic=-2.5776199560038608, pvalue=0.010149609899964988)\n"
     ]
    }
   ],
   "source": [
    "print( ttest_ind( round_7_data[ 'CarAV-First4AV' ], round_late_data[ 'CarAV-First4AV' ], equal_var = False ) )"
   ]
  },
  {
   "cell_type": "code",
   "execution_count": 45,
   "metadata": {
    "collapsed": true
   },
   "outputs": [],
   "source": [
    "# more significance, but this one is really not fair.  The NFL has held a seven round draft since 1994; in 1993 there\n",
    "# were eight rounds, and between 1985 (the year our data commence) and 1992, the NFL draft had 12 rounds.\n",
    "#\n",
    "# Let's restrict to some specific positions;  how about QB, where coaching is reputed to make a difference, and RB,\n",
    "# where success is more reputed to be tied to inherent abilities and uncoachable intuition."
   ]
  },
  {
   "cell_type": "code",
   "execution_count": 46,
   "metadata": {
    "collapsed": false
   },
   "outputs": [],
   "source": [
    "round_1_data_RB = round_1_data[ round_1_data[ 'Pos' ] == 'RB' ]\n",
    "round_2_data_RB = round_2_data[ round_2_data[ 'Pos' ] == 'RB' ]\n",
    "round_3_data_RB = round_3_data[ round_3_data[ 'Pos' ] == 'RB' ]\n",
    "round_4_data_RB = round_4_data[ round_4_data[ 'Pos' ] == 'RB' ]\n",
    "round_5_data_RB = round_5_data[ round_5_data[ 'Pos' ] == 'RB' ]\n",
    "round_6_data_RB = round_6_data[ round_6_data[ 'Pos' ] == 'RB' ]\n",
    "round_7_data_RB = round_7_data[ round_7_data[ 'Pos' ] == 'RB' ]\n",
    "round_late_data_RB = round_late_data[ round_late_data[ 'Pos' ] == 'RB' ]\n",
    "round_1_data_QB = round_1_data[ round_1_data[ 'Pos' ] == 'QB' ]\n",
    "round_2_data_QB = round_2_data[ round_2_data[ 'Pos' ] == 'QB' ]\n",
    "round_3_data_QB = round_3_data[ round_3_data[ 'Pos' ] == 'QB' ]\n",
    "round_4_data_QB = round_4_data[ round_4_data[ 'Pos' ] == 'QB' ]\n",
    "round_5_data_QB = round_5_data[ round_5_data[ 'Pos' ] == 'QB' ]\n",
    "round_6_data_QB = round_6_data[ round_6_data[ 'Pos' ] == 'QB' ]\n",
    "round_7_data_QB = round_7_data[ round_7_data[ 'Pos' ] == 'QB' ]\n",
    "round_late_data_QB = round_late_data[ round_late_data[ 'Pos' ] == 'QB' ]\n",
    "round_1_data_QB_RB = round_1_data[ ( round_1_data[ 'Pos' ] == 'QB' ) | ( round_1_data[ 'Pos' ] == 'RB' ) ]\n",
    "round_2_data_QB_RB = round_2_data[ ( round_2_data[ 'Pos' ] == 'QB' ) | ( round_2_data[ 'Pos' ] == 'RB' ) ]\n",
    "round_3_data_QB_RB = round_3_data[ ( round_3_data[ 'Pos' ] == 'QB' ) | ( round_3_data[ 'Pos' ] == 'RB' ) ]\n",
    "round_4_data_QB_RB = round_4_data[ ( round_4_data[ 'Pos' ] == 'QB' ) | ( round_4_data[ 'Pos' ] == 'RB' ) ]\n",
    "round_5_data_QB_RB = round_5_data[ ( round_5_data[ 'Pos' ] == 'QB' ) | ( round_5_data[ 'Pos' ] == 'RB' ) ]\n",
    "round_6_data_QB_RB = round_6_data[ ( round_6_data[ 'Pos' ] == 'QB' ) | ( round_6_data[ 'Pos' ] == 'RB' ) ]\n",
    "round_7_data_QB_RB = round_7_data[ ( round_7_data[ 'Pos' ] == 'QB' ) | ( round_7_data[ 'Pos' ] == 'RB' ) ]"
   ]
  },
  {
   "cell_type": "code",
   "execution_count": 47,
   "metadata": {
    "collapsed": true
   },
   "outputs": [],
   "source": [
    "# We compare AV improvement from first four years to entire career between QBs and RBs.  First, a boxplot:"
   ]
  },
  {
   "cell_type": "code",
   "execution_count": 48,
   "metadata": {
    "collapsed": false
   },
   "outputs": [
    {
     "data": {
      "text/plain": [
       "<matplotlib.axes._subplots.AxesSubplot at 0x1149b94a8>"
      ]
     },
     "execution_count": 48,
     "metadata": {},
     "output_type": "execute_result"
    },
    {
     "data": {
      "image/png": "[encoded data removed]",
      "text/plain": [
       "<matplotlib.figure.Figure at 0x11491df60>"
      ]
     },
     "metadata": {},
     "output_type": "display_data"
    }
   ],
   "source": [
    "round_1_data_QB_RB.boxplot( column = 'CarAV-First4AV', by = \"Pos\" )"
   ]
  },
  {
   "cell_type": "code",
   "execution_count": 49,
   "metadata": {
    "collapsed": true
   },
   "outputs": [],
   "source": [
    "# Both distributions count 0 as the 1st quartile, and show the bulk of the data to be positive.  It appears that there\n",
    "# is greater variability with the quarterbacks, meaning generally a greater level of improvement in AV rating from the\n",
    "# first four years through to the full carreer."
   ]
  },
  {
   "cell_type": "code",
   "execution_count": 50,
   "metadata": {
    "collapsed": false
   },
   "outputs": [
    {
     "name": "stdout",
     "output_type": "stream",
     "text": [
      "Ttest_1sampResult(statistic=5.3463647541570625, pvalue=1.2014407881458597e-06)\n"
     ]
    }
   ],
   "source": [
    "print( scipy.stats.ttest_1samp( round_1_data_QB[ 'CarAV-First4AV' ], 0 ) )"
   ]
  },
  {
   "cell_type": "code",
   "execution_count": 51,
   "metadata": {
    "collapsed": false
   },
   "outputs": [
    {
     "name": "stdout",
     "output_type": "stream",
     "text": [
      "Ttest_1sampResult(statistic=6.4123038666104328, pvalue=5.7056566964583912e-09)\n"
     ]
    }
   ],
   "source": [
    "print( scipy.stats.ttest_1samp( round_1_data_RB[ 'CarAV-First4AV' ], 0 ) )"
   ]
  },
  {
   "cell_type": "code",
   "execution_count": 52,
   "metadata": {
    "collapsed": true
   },
   "outputs": [],
   "source": [
    "# We see a significant improvement for both RBs and QBs over the career, when they're taken in the first round.\n",
    "# What about a comparison between the two positions?"
   ]
  },
  {
   "cell_type": "code",
   "execution_count": 53,
   "metadata": {
    "collapsed": false
   },
   "outputs": [
    {
     "name": "stdout",
     "output_type": "stream",
     "text": [
      "Ttest_indResult(statistic=1.9309572336920899, pvalue=0.056364312903474871)\n"
     ]
    }
   ],
   "source": [
    "print( ttest_ind( round_1_data_QB[ 'CarAV-First4AV' ], round_1_data_RB[ 'CarAV-First4AV' ], equal_var = False ) )"
   ]
  },
  {
   "cell_type": "code",
   "execution_count": 54,
   "metadata": {
    "collapsed": true
   },
   "outputs": [],
   "source": [
    "# Although the side-by-side boxplots appear to show gerally larger values for the QB improvement figures, the large\n",
    "# overlap testifies to the result of the test:  no statistical significance in the difference of means between the\n",
    "# two data sets.\n",
    "#\n",
    "# Let's see what happens when we run the same comparisons, but in round two this time:"
   ]
  },
  {
   "cell_type": "code",
   "execution_count": 55,
   "metadata": {
    "collapsed": false
   },
   "outputs": [
    {
     "data": {
      "text/plain": [
       "<matplotlib.axes._subplots.AxesSubplot at 0x1149425c0>"
      ]
     },
     "execution_count": 55,
     "metadata": {},
     "output_type": "execute_result"
    },
    {
     "data": {
      "image/png": "[encoded data removed]",
      "text/plain": [
       "<matplotlib.figure.Figure at 0x114946b00>"
      ]
     },
     "metadata": {},
     "output_type": "display_data"
    }
   ],
   "source": [
    "round_2_data_QB_RB.boxplot( column = 'CarAV-First4AV', by = \"Pos\" )"
   ]
  },
  {
   "cell_type": "code",
   "execution_count": 56,
   "metadata": {
    "collapsed": true
   },
   "outputs": [],
   "source": [
    "# I hesitate to rely on algorithmic determination of what constitutes an outlier;  but the side-by-side boxplots show\n",
    "# both sets of measurements to be clustered just above zero with notabe outliers.  The QBs are more spread out it would\n",
    "# seem, but these two data sets are more similar in their distributions than they are different."
   ]
  },
  {
   "cell_type": "code",
   "execution_count": 57,
   "metadata": {
    "collapsed": false
   },
   "outputs": [
    {
     "name": "stdout",
     "output_type": "stream",
     "text": [
      "Ttest_1sampResult(statistic=2.475657670112891, pvalue=0.019864394681925066)\n"
     ]
    }
   ],
   "source": [
    "print( scipy.stats.ttest_1samp( round_2_data_QB[ 'CarAV-First4AV' ], 0 ) )"
   ]
  },
  {
   "cell_type": "code",
   "execution_count": 58,
   "metadata": {
    "collapsed": false
   },
   "outputs": [
    {
     "name": "stdout",
     "output_type": "stream",
     "text": [
      "Ttest_1sampResult(statistic=4.5997326145394055, pvalue=1.586620160818101e-05)\n"
     ]
    }
   ],
   "source": [
    "print( scipy.stats.ttest_1samp( round_2_data_RB[ 'CarAV-First4AV' ], 0 ) )"
   ]
  },
  {
   "cell_type": "code",
   "execution_count": 59,
   "metadata": {
    "collapsed": true
   },
   "outputs": [],
   "source": [
    "# Testing at the alpha = 0.05 level, we see that for QBs and RBs taken in the second round of the draft, there is\n",
    "# significant evidence that the mean AV improvement is positive.  But what about differences between the two groups?"
   ]
  },
  {
   "cell_type": "code",
   "execution_count": 60,
   "metadata": {
    "collapsed": false
   },
   "outputs": [
    {
     "name": "stdout",
     "output_type": "stream",
     "text": [
      "Ttest_indResult(statistic=1.3067127264614375, pvalue=0.20113527425429339)\n"
     ]
    }
   ],
   "source": [
    "print( ttest_ind( round_2_data_QB[ 'CarAV-First4AV' ], round_2_data_RB[ 'CarAV-First4AV' ], equal_var = False ) )"
   ]
  },
  {
   "cell_type": "code",
   "execution_count": 61,
   "metadata": {
    "collapsed": true
   },
   "outputs": [],
   "source": [
    "# Interesting:  At the alpha = 0.05 level (or even alpha = 0.10 or alpha = 0.20), there appears to be no difference in\n",
    "# AV rating improvement between the two positions.\n",
    "# We proceed to round 3."
   ]
  },
  {
   "cell_type": "code",
   "execution_count": 62,
   "metadata": {
    "collapsed": false
   },
   "outputs": [
    {
     "data": {
      "text/plain": [
       "<matplotlib.axes._subplots.AxesSubplot at 0x114685e48>"
      ]
     },
     "execution_count": 62,
     "metadata": {},
     "output_type": "execute_result"
    },
    {
     "data": {
      "image/png": "[encoded data removed]",
      "text/plain": [
       "<matplotlib.figure.Figure at 0x1146edcf8>"
      ]
     },
     "metadata": {},
     "output_type": "display_data"
    }
   ],
   "source": [
    "round_3_data_QB_RB.boxplot( column = 'CarAV-First4AV', by = \"Pos\" )"
   ]
  },
  {
   "cell_type": "code",
   "execution_count": 63,
   "metadata": {
    "collapsed": true
   },
   "outputs": [],
   "source": [
    "# Well, apparently so freaking many round 3 RBs showed zero change in AV rating from first 4 years to full career\n",
    "# that only outliers showed nonzero ratings!  I'll guess the t-test for mean AV difference being something other than\n",
    "# zero will not yield a significant result.  Let's see:"
   ]
  },
  {
   "cell_type": "code",
   "execution_count": 64,
   "metadata": {
    "collapsed": false
   },
   "outputs": [
    {
     "name": "stdout",
     "output_type": "stream",
     "text": [
      "Ttest_1sampResult(statistic=2.7449304581814657, pvalue=0.0099783369197994493)\n"
     ]
    }
   ],
   "source": [
    "print( scipy.stats.ttest_1samp( round_3_data_QB[ 'CarAV-First4AV' ], 0 ) )"
   ]
  },
  {
   "cell_type": "code",
   "execution_count": 65,
   "metadata": {
    "collapsed": false
   },
   "outputs": [
    {
     "name": "stdout",
     "output_type": "stream",
     "text": [
      "Ttest_1sampResult(statistic=3.323599229273527, pvalue=0.001362135680365886)\n"
     ]
    }
   ],
   "source": [
    "print( scipy.stats.ttest_1samp( round_3_data_RB[ 'CarAV-First4AV' ], 0 ) )"
   ]
  },
  {
   "cell_type": "code",
   "execution_count": 66,
   "metadata": {
    "collapsed": true
   },
   "outputs": [],
   "source": [
    "# Well, what do you know about that!  I guess there were enough high-end \"outliers\" that they won the day.  Both groups\n",
    "# posted significant results.  On to the comparison:"
   ]
  },
  {
   "cell_type": "code",
   "execution_count": 67,
   "metadata": {
    "collapsed": false
   },
   "outputs": [
    {
     "name": "stdout",
     "output_type": "stream",
     "text": [
      "Ttest_indResult(statistic=1.2624446292932177, pvalue=0.2137410298009331)\n"
     ]
    }
   ],
   "source": [
    "print( ttest_ind( round_3_data_QB[ 'CarAV-First4AV' ], round_3_data_RB[ 'CarAV-First4AV' ], equal_var = False ) )"
   ]
  },
  {
   "cell_type": "code",
   "execution_count": 68,
   "metadata": {
    "collapsed": true
   },
   "outputs": [],
   "source": [
    "# This is why we run the tests:  despite the VERY different looking boxplots, there is no statistically significant\n",
    "# evidence that there is a difference between the means of the two groups when we test at the alpha = 0.05, or any\n",
    "# other reasonable alpha level.  Later rounds, anybody?"
   ]
  },
  {
   "cell_type": "code",
   "execution_count": 69,
   "metadata": {
    "collapsed": false
   },
   "outputs": [
    {
     "name": "stdout",
     "output_type": "stream",
     "text": [
      "Ttest_1sampResult(statistic=2.4924151083651869, pvalue=0.018240627927975924)\n",
      "Ttest_1sampResult(statistic=2.7673887990769268, pvalue=0.0072478349987420958)\n",
      "Ttest_indResult(statistic=1.7042105588792476, pvalue=0.097108984063377077)\n"
     ]
    },
    {
     "data": {
      "image/png": "[encoded data removed]",
      "text/plain": [
       "<matplotlib.figure.Figure at 0x114753710>"
      ]
     },
     "metadata": {},
     "output_type": "display_data"
    }
   ],
   "source": [
    "round_4_data_QB_RB.boxplot( column = 'CarAV-First4AV', by = \"Pos\" )\n",
    "print( scipy.stats.ttest_1samp( round_4_data_QB[ 'CarAV-First4AV' ], 0 ) )\n",
    "print( scipy.stats.ttest_1samp( round_4_data_RB[ 'CarAV-First4AV' ], 0 ) )\n",
    "print( ttest_ind( round_4_data_QB[ 'CarAV-First4AV' ], round_4_data_RB[ 'CarAV-First4AV' ], equal_var = False ) )"
   ]
  },
  {
   "cell_type": "code",
   "execution_count": 70,
   "metadata": {
    "collapsed": false
   },
   "outputs": [
    {
     "name": "stdout",
     "output_type": "stream",
     "text": [
      "Ttest_1sampResult(statistic=2.0745001744164946, pvalue=0.058452038693578567)\n",
      "Ttest_1sampResult(statistic=2.75354238852425, pvalue=0.0077898384566796233)\n",
      "Ttest_indResult(statistic=-1.1043164961764789, pvalue=0.27356532677127865)\n"
     ]
    },
    {
     "data": {
      "image/png": "[encoded data removed]",
      "text/plain": [
       "<matplotlib.figure.Figure at 0x114cd4978>"
      ]
     },
     "metadata": {},
     "output_type": "display_data"
    }
   ],
   "source": [
    "round_5_data_QB_RB.boxplot( column = 'CarAV-First4AV', by = \"Pos\" )\n",
    "print( scipy.stats.ttest_1samp( round_5_data_QB[ 'CarAV-First4AV' ], 0 ) )\n",
    "print( scipy.stats.ttest_1samp( round_5_data_RB[ 'CarAV-First4AV' ], 0 ) )\n",
    "print( ttest_ind( round_5_data_QB[ 'CarAV-First4AV' ], round_5_data_RB[ 'CarAV-First4AV' ], equal_var = False ) )"
   ]
  },
  {
   "cell_type": "code",
   "execution_count": 71,
   "metadata": {
    "collapsed": false
   },
   "outputs": [
    {
     "name": "stdout",
     "output_type": "stream",
     "text": [
      "Ttest_1sampResult(statistic=2.4244859692210854, pvalue=0.022892345818442308)\n",
      "Ttest_1sampResult(statistic=2.2713379506855245, pvalue=0.027213461822856021)\n",
      "Ttest_indResult(statistic=2.216149362833276, pvalue=0.035863376306591671)\n"
     ]
    },
    {
     "data": {
      "image/png": "[encoded data removed]",
      "text/plain": [
       "<matplotlib.figure.Figure at 0x114ff1550>"
      ]
     },
     "metadata": {},
     "output_type": "display_data"
    }
   ],
   "source": [
    "round_6_data_QB_RB.boxplot( column = 'CarAV-First4AV', by = \"Pos\" )\n",
    "print( scipy.stats.ttest_1samp( round_6_data_QB[ 'CarAV-First4AV' ], 0 ) )\n",
    "print( scipy.stats.ttest_1samp( round_6_data_RB[ 'CarAV-First4AV' ], 0 ) )\n",
    "print( ttest_ind( round_6_data_QB[ 'CarAV-First4AV' ], round_6_data_RB[ 'CarAV-First4AV' ], equal_var = False ) )"
   ]
  },
  {
   "cell_type": "code",
   "execution_count": 72,
   "metadata": {
    "collapsed": false
   },
   "outputs": [
    {
     "name": "stdout",
     "output_type": "stream",
     "text": [
      "Ttest_1sampResult(statistic=1.8752986199344392, pvalue=0.079122156138725336)\n",
      "Ttest_1sampResult(statistic=2.019429695359297, pvalue=0.048929843807276427)\n",
      "Ttest_indResult(statistic=1.5639879851416527, pvalue=0.13658590570865173)\n"
     ]
    },
    {
     "data": {
      "image/png": "[encoded data removed]",
      "text/plain": [
       "<matplotlib.figure.Figure at 0x11514db38>"
      ]
     },
     "metadata": {},
     "output_type": "display_data"
    }
   ],
   "source": [
    "round_7_data_QB_RB.boxplot( column = 'CarAV-First4AV', by = \"Pos\" )\n",
    "print( scipy.stats.ttest_1samp( round_7_data_QB[ 'CarAV-First4AV' ], 0 ) )\n",
    "print( scipy.stats.ttest_1samp( round_7_data_RB[ 'CarAV-First4AV' ], 0 ) )\n",
    "print( ttest_ind( round_7_data_QB[ 'CarAV-First4AV' ], round_7_data_RB[ 'CarAV-First4AV' ], equal_var = False ) )"
   ]
  },
  {
   "cell_type": "code",
   "execution_count": 73,
   "metadata": {
    "collapsed": true
   },
   "outputs": [],
   "source": [
    "# OK, so what does all this beautiful sliced, diced and suitably crunched data say to us?  All of our position data\n",
    "# sets have means either significantly or very near significantly different from zero if we test at alpha = 0.05.  If\n",
    "# we test at alpha = 0.10, they're all significant.  It's worth noting that all the RB boxplots show min to max at\n",
    "# zero, with some outliers.  There's enough QB data different from zero to get a box every time.  I don't know, but\n",
    "# I'm going to take a guess as to why we see this:  RBs bodies wear out quicker than QBs in the NFL.  A 32 year old QB\n",
    "# surprises no-one, but only rarely does a RB last to that great old age.  As a consequence, RB ability to use years 5\n",
    "# and onward to increase CarAV beyond First4AV is diminished relative to their QB bretheren."
   ]
  },
  {
   "cell_type": "code",
   "execution_count": 74,
   "metadata": {
    "collapsed": true
   },
   "outputs": [],
   "source": [
    "# FURTHER RESEARCH:  There are other positions, or other position groups (O-line, combining C, G and OT, for example),\n",
    "# which can be examined for AV change over the career.  These groups can be compared to QBs, RBs and each other.  Doug\n",
    "# Drinen put in considerable work in arriving at AV calculations.  His goal was to cook up a position independent\n",
    "# rating;  It may be useful in some contexts to cook up position specific ratings, especially for comparing players\n",
    "# at a specific position or within related position groups."
   ]
  },
  {
   "cell_type": "code",
   "execution_count": null,
   "metadata": {
    "collapsed": true
   },
   "outputs": [],
   "source": []
  }
 ],
 "metadata": {
  "kernelspec": {
   "display_name": "Python 3",
   "language": "python",
   "name": "python3"
  },
  "language_info": {
   "codemirror_mode": {
    "name": "ipython",
    "version": 3
   },
   "file_extension": ".py",
   "mimetype": "text/x-python",
   "name": "python",
   "nbconvert_exporter": "python",
   "pygments_lexer": "ipython3",
   "version": "3.6.0"
  }
 },
 "nbformat": 4,
 "nbformat_minor": 2
}
